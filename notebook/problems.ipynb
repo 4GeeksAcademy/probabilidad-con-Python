{
    "cells": [
        {
            "cell_type": "markdown",
            "id": "ac622319",
            "metadata": {},
            "source": [
                "# Descriptive statistics problems"
            ]
        },
        {
            "cell_type": "markdown",
            "id": "aa8993e4",
            "metadata": {},
            "source": [
                "### Exercise 1"
            ]
        },
        {
            "cell_type": "markdown",
            "id": "5e0ab0d5",
            "metadata": {},
            "source": [
                "We will use Numpy to obtain information to describe statistically.\n",
                "\n",
                "- Generate an array of 100 elements following a normal distribution.\n",
                "- Generate an array of 100 elements following a chi-square distribution with 3 degrees of freedom.\n",
                "- Calculate the main metrics and statistical measures that best describe the two vectors."
            ]
        },
        {
            "cell_type": "code",
            "execution_count": 1,
            "id": "34720ab6",
            "metadata": {},
            "outputs": [
                {
                    "name": "stdout",
                    "output_type": "stream",
                    "text": [
                        "vector normal:  [  2 105  30  52  83 142 199  35 126   3  43 144  19  71  77   6 190 198\n",
                        "  55  42 198 179  52 121 133 101 149 127 189 188  82 109 179  99 162 187\n",
                        " 157  52  89 100 155  62 152 116   1   0  62 170 112  15  21 148  40  20\n",
                        "  85   0 195 127 134 168 155 128 170  10 113   9  38  41 134  85 109  99\n",
                        " 158 171  64 133 146  24  91 185  25  20  57 195  30  31  85  95  47 192\n",
                        "  42 198 158 134 139  60  76 187  93 125]\n",
                        "vector chi-square:  [ 3.07694299  4.53495934  3.07309227  1.63996367  1.91444971  7.51549968\n",
                        "  0.9896482   2.28410306  0.48639238  1.80818323  0.13654919  5.92745684\n",
                        "  3.04191188  6.40669384  4.21341466  1.49630945  5.10556302  1.89641239\n",
                        "  4.27289366  4.1553566   1.71902619  2.94010526  4.6370848   6.86468503\n",
                        "  1.61465858  3.35514414  4.51763163  0.30905144  2.51864239  1.53083714\n",
                        "  4.31823214  4.31679489  4.39948657  1.86803593  3.36833685  1.47723789\n",
                        "  1.27764198  3.87412215  0.81566878  0.92268053  1.14770035  1.33586711\n",
                        " 14.0013289   6.63728725  3.95721034  1.38353949  2.03833903  5.15395708\n",
                        "  1.00437718  0.86336085  3.67866543  1.32271905  2.49528973  0.21388369\n",
                        "  6.6730144  10.27122847  1.56708061  0.44955236  2.11448182  4.43279421\n",
                        "  6.03764673  0.25172057  2.15584697  1.39310063  0.71843116  5.75220221\n",
                        "  0.36187706  0.22866466  3.5390693   3.60612542  3.25996017  3.60824306\n",
                        "  0.94562061  1.11587587  2.71691042  1.45722879  1.11816603  1.80531829\n",
                        "  1.75724882  6.59521979  3.41252793  7.3330453   8.48077741  0.35559482\n",
                        "  4.4282888   6.41377885  2.12380146  1.68906869  0.54476728  4.39998921\n",
                        "  0.51420987  4.51633117  1.08866915  2.51090583  0.71730927  2.54359683\n",
                        "  3.47772333  4.99966373  6.98161455  2.03165261]\n",
                        "la media de la normal es: 101\n",
                        "la media de chi es: 3.0835037037593125\n",
                        "la mediana de la normal es: 100.5\n",
                        "la mediana de chi es: 2.5030977796220393\n",
                        "la moda de la normal es: 52\n",
                        "la moda de chi es: 3.0769429936125348\n",
                        "el rango de la normal es:199\n",
                        "el rango de chi es: 13.86477971341222\n",
                        "la varianza de normal es:3726\n",
                        "la varianza de chi es: 5.835175486570462\n",
                        "la desviacion estandar de la normal es:60.73903193169941\n",
                        "la desviacion estandar de chi es:2.403502388537352\n",
                        "la skew de normal es:-0.02389005630975204\n",
                        "la skew de chi es:1.4550851824165072\n",
                        "la kurtosis de la normal es:-1.2252208760450318\n",
                        "la kurtosis de chi es:3.253373366778214\n"
                    ]
                }
            ],
            "source": [
                "# TODO\n",
                "import numpy as np\n",
                "import statistics as stats\n",
                "from scipy.stats import skew\n",
                "from scipy.stats import kurtosis\n",
                "\n",
                "normal = np.random.randint(0,200,100)\n",
                "chi = np.random.chisquare(3,100)\n",
                "\n",
                "print(f'vector normal: ', (normal))\n",
                "print(f'vector chi-square: ',(chi))\n",
                "\n",
                "\n",
                "print(f\"la media de la normal es: {stats.mean(normal)}\")\n",
                "print(f\"la media de chi es: {stats.mean(chi)}\")\n",
                "\n",
                "print(f\"la mediana de la normal es: {stats.median(normal)}\")\n",
                "print(f\"la mediana de chi es: {stats.median(chi)}\")\n",
                "\n",
                "print(f\"la moda de la normal es: {stats.mode(normal)}\")\n",
                "print(f\"la moda de chi es: {stats.mode(chi)}\")\n",
                "\n",
                "range_normal = max(normal)-min(normal)\n",
                "range_chi = max(chi)-min(chi)\n",
                "print(f\"el rango de la normal es:{range_normal}\")\n",
                "print(f\"el rango de chi es: {range_chi}\")\n",
                "\n",
                "print(f\"la varianza de normal es:{stats.variance(normal)}\")\n",
                "print(f\"la varianza de chi es: {stats.variance(chi)}\")\n",
                "\n",
                "std_normal = np.std(normal)\n",
                "std_chi= np.std(chi)\n",
                "print(f\"la desviacion estandar de la normal es:{std_normal}\")\n",
                "print(f\"la desviacion estandar de chi es:{std_chi}\")\n",
                "\n",
                "\n",
                "print(f\"la skew de normal es:{skew(normal)}\")\n",
                "print(f\"la skew de chi es:{skew(chi)}\")\n",
                "\n",
                "\n",
                "print(f\"la kurtosis de la normal es:{kurtosis(normal)}\")\n",
                "print(f\"la kurtosis de chi es:{kurtosis(chi)}\")"
            ]
        },
        {
            "cell_type": "markdown",
            "id": "46c70c3d",
            "metadata": {},
            "source": [
                "### Exercise 2\n",
                "\n",
                "Write a Python program to calculate the standard deviation of the following data:\n",
                "\n",
                "```py\n",
                "data = [4, 2, 5, 8, 6]\n",
                "```"
            ]
        },
        {
            "cell_type": "code",
            "execution_count": 4,
            "id": "d590308e",
            "metadata": {},
            "outputs": [
                {
                    "name": "stdout",
                    "output_type": "stream",
                    "text": [
                        "Desviación Estándar: 2.0\n"
                    ]
                }
            ],
            "source": [
                "# TODO\n",
                "import math\n",
                "\n",
                "data = [4, 2, 5, 8, 6]\n",
                "\n",
                "def calcular_media(data):\n",
                "    return sum(data) / len(data)\n",
                "\n",
                "def calcular_varianza(data):\n",
                "    media = calcular_media(data)\n",
                "    varianza = sum((x - media) ** 2 for x in data) / len(data)\n",
                "    return varianza\n",
                "\n",
                "def calcular_desviacion_estandar(data):\n",
                "    varianza = calcular_varianza(data)\n",
                "    return math.sqrt(varianza)\n",
                "\n",
                "desviacion_estandar = calcular_desviacion_estandar(data)\n",
                "print(\"Desviación Estándar:\", desviacion_estandar)\n"
            ]
        }
    ],
    "metadata": {
        "interpreter": {
            "hash": "9248718ffe6ce6938b217e69dbcc175ea21f4c6b28a317e96c05334edae734bb"
        },
        "kernelspec": {
            "display_name": "Python 3.9.12 ('ML-BOOTCAMP')",
            "language": "python",
            "name": "python3"
        },
        "language_info": {
            "codemirror_mode": {
                "name": "ipython",
                "version": 3
            },
            "file_extension": ".py",
            "mimetype": "text/x-python",
            "name": "python",
            "nbconvert_exporter": "python",
            "pygments_lexer": "ipython3",
            "version": "3.11.4"
        }
    },
    "nbformat": 4,
    "nbformat_minor": 5
}
